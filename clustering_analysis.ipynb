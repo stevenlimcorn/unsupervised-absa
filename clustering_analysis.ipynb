{
 "cells": [
  {
   "attachments": {},
   "cell_type": "markdown",
   "metadata": {},
   "source": [
    "# Clustering Analysis\n",
    "After performing the clustering, the best models from each section of experiment are shown below."
   ]
  },
  {
   "cell_type": "code",
   "execution_count": 1,
   "metadata": {},
   "outputs": [
    {
     "name": "stderr",
     "output_type": "stream",
     "text": [
      "No config specified, defaulting to: sem_eval2014_task4_raw/All\n",
      "Found cached dataset sem_eval2014_task4_raw (C:/Users/User/.cache/huggingface/datasets/Yaxin___sem_eval2014_task4_raw/All/0.0.1/3f2b4b42aa35876b7faba99ae6f73b106955b8c9162c6fc5160fd74497f7790f)\n",
      "No config specified, defaulting to: sem_eval2014_task4_raw/All\n",
      "Found cached dataset sem_eval2014_task4_raw (C:/Users/User/.cache/huggingface/datasets/Yaxin___sem_eval2014_task4_raw/All/0.0.1/3f2b4b42aa35876b7faba99ae6f73b106955b8c9162c6fc5160fd74497f7790f)\n",
      "No config specified, defaulting to: sem_eval2014_task4_raw/All\n",
      "Found cached dataset sem_eval2014_task4_raw (C:/Users/User/.cache/huggingface/datasets/Yaxin___sem_eval2014_task4_raw/All/0.0.1/3f2b4b42aa35876b7faba99ae6f73b106955b8c9162c6fc5160fd74497f7790f)\n"
     ]
    }
   ],
   "source": [
    "# Load dataset from huggingface\n",
    "from datasets import load_dataset\n",
    "train_dataset = load_dataset(\"Yaxin/SemEval2014Task4Raw\", split='train')\n",
    "validation_dataset = load_dataset(\"Yaxin/SemEval2014Task4Raw\", split='validation')\n",
    "test_dataset = load_dataset(\"Yaxin/SemEval2014Task4Raw\", split='test')"
   ]
  },
  {
   "cell_type": "code",
   "execution_count": 5,
   "metadata": {},
   "outputs": [],
   "source": [
    "laptop = train_dataset.to_pandas().groupby('domain').get_group('laptops')\n",
    "restaurant = train_dataset.to_pandas().groupby('domain').get_group('restaurants')"
   ]
  },
  {
   "cell_type": "code",
   "execution_count": 10,
   "metadata": {},
   "outputs": [
    {
     "data": {
      "text/plain": [
       "{'ambience', 'anecdotes/miscellaneous', 'food', 'price', 'service'}"
      ]
     },
     "execution_count": 10,
     "metadata": {},
     "output_type": "execute_result"
    }
   ],
   "source": [
    "categories = []\n",
    "for category in restaurant['aspectCategories']:\n",
    "    for name in category:\n",
    "        categories.append(name['category'])\n",
    "set(categories)"
   ]
  }
 ],
 "metadata": {
  "kernelspec": {
   "display_name": "torch-flair",
   "language": "python",
   "name": "python3"
  },
  "language_info": {
   "codemirror_mode": {
    "name": "ipython",
    "version": 3
   },
   "file_extension": ".py",
   "mimetype": "text/x-python",
   "name": "python",
   "nbconvert_exporter": "python",
   "pygments_lexer": "ipython3",
   "version": "3.10.0"
  },
  "orig_nbformat": 4
 },
 "nbformat": 4,
 "nbformat_minor": 2
}
