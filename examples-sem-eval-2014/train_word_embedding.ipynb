{
 "cells": [
  {
   "attachments": {},
   "cell_type": "markdown",
   "metadata": {},
   "source": [
    "# Training Word Embedding Models"
   ]
  },
  {
   "attachments": {},
   "cell_type": "markdown",
   "metadata": {},
   "source": [
    "### Data"
   ]
  },
  {
   "cell_type": "code",
   "execution_count": 4,
   "metadata": {},
   "outputs": [],
   "source": [
    "from datasets import load_from_disk\n",
    "import gensim\n",
    "preprocessed_dataset = load_from_disk('../data/preprocessed_data')\n",
    "preprocessed_df = preprocessed_dataset.to_pandas()\n",
    "preprocessed_df = preprocessed_df.drop_duplicates(subset=['text'])\n",
    "laptop_df = preprocessed_df[preprocessed_df['domain'] == 'laptops']\n",
    "restaurant_df = preprocessed_df[preprocessed_df['domain'] == 'restaurants']"
   ]
  },
  {
   "cell_type": "code",
   "execution_count": 5,
   "metadata": {},
   "outputs": [],
   "source": [
    "gensim_data = list(preprocessed_df['text'].apply(gensim.utils.simple_preprocess))\n",
    "gensim_laptop = list(laptop_df['text'].apply(gensim.utils.simple_preprocess))\n",
    "gensim_restaurant = list(restaurant_df['text'].apply(gensim.utils.simple_preprocess))"
   ]
  },
  {
   "attachments": {},
   "cell_type": "markdown",
   "metadata": {},
   "source": [
    "### Train Word2Vec"
   ]
  },
  {
   "cell_type": "code",
   "execution_count": 45,
   "metadata": {},
   "outputs": [
    {
     "name": "stdout",
     "output_type": "stream",
     "text": [
      "C:\\Users\\User/gensim-data\\word2vec-google-news-300\\word2vec-google-news-300.gz\n"
     ]
    }
   ],
   "source": [
    "import gensim.downloader\n",
    "from gensim.models import KeyedVectors\n",
    "model_path = gensim.downloader.load('word2vec-google-news-300', return_path=True)\n",
    "print(model_path)\n",
    "# load the model to keyedvector and save it as keyedvector\n",
    "vectors = gensim.models.KeyedVectors.load_word2vec_format(model_path, binary=True)"
   ]
  },
  {
   "attachments": {},
   "cell_type": "markdown",
   "metadata": {},
   "source": [
    "#### Train on all semeval"
   ]
  },
  {
   "cell_type": "code",
   "execution_count": 46,
   "metadata": {},
   "outputs": [],
   "source": [
    "import multiprocessing\n",
    "cores = multiprocessing.cpu_count() # Count the number of cores in a computer\n",
    "model = gensim.models.Word2Vec(\n",
    "    window=2,\n",
    "    min_count=5,\n",
    "#     sample=6e-5, \n",
    "    alpha=0.03, \n",
    "    min_alpha=0.0007, \n",
    "    workers=cores-1,\n",
    "    epochs=50\n",
    ")\n",
    "model.build_vocab(gensim_data, progress_per=10)\n",
    "total_examples = model.corpus_count"
   ]
  },
  {
   "cell_type": "code",
   "execution_count": 47,
   "metadata": {},
   "outputs": [],
   "source": [
    "model.build_vocab([list(vectors.key_to_index.keys())], update=True)\n",
    "# train on your data\n",
    "model.train(gensim_data, total_examples=total_examples, epochs=model.epochs)\n",
    "model_wv = model.wv\n",
    "model_wv.save_word2vec_format('E:/UQ/REIT4882/unsupervised-absa/models/further_pretrain/word2vec_semeval.gensim')\n",
    "word_vectors = gensim.models.KeyedVectors.load_word2vec_format('E:/UQ/REIT4882/unsupervised-absa/models/further_pretrain/word2vec_semeval.gensim', binary=False)\n",
    "word_vectors.save('E:/UQ/REIT4882/unsupervised-absa/models/further_pretrain/word2vec_semeval.gensim', pickle_protocol=4)"
   ]
  },
  {
   "attachments": {},
   "cell_type": "markdown",
   "metadata": {},
   "source": [
    "#### Train on laptop"
   ]
  },
  {
   "cell_type": "code",
   "execution_count": 48,
   "metadata": {},
   "outputs": [],
   "source": [
    "import multiprocessing\n",
    "cores = multiprocessing.cpu_count() # Count the number of cores in a computer\n",
    "laptop_model = gensim.models.Word2Vec(\n",
    "    window=2,\n",
    "    min_count=5,\n",
    "#     sample=6e-5, \n",
    "    alpha=0.03, \n",
    "    min_alpha=0.0007, \n",
    "    workers=cores-1,\n",
    "    epochs=50\n",
    ")\n",
    "laptop_model.build_vocab(gensim_laptop, progress_per=10)\n",
    "total_examples = laptop_model.corpus_count"
   ]
  },
  {
   "cell_type": "code",
   "execution_count": 49,
   "metadata": {},
   "outputs": [],
   "source": [
    "laptop_model.build_vocab([list(vectors.key_to_index.keys())], update=True)\n",
    "# train on your data\n",
    "laptop_model.train(gensim_data, total_examples=total_examples, epochs=laptop_model.epochs)\n",
    "model_wv = laptop_model.wv\n",
    "model_wv.save_word2vec_format('E:/UQ/REIT4882/unsupervised-absa/models/further_pretrain/word2vec_laptop.gensim')\n",
    "word_vectors = gensim.models.KeyedVectors.load_word2vec_format('E:/UQ/REIT4882/unsupervised-absa/models/further_pretrain/word2vec_laptop.gensim', binary=False)\n",
    "word_vectors.save('E:/UQ/REIT4882/unsupervised-absa/models/further_pretrain/word2vec_laptop.gensim', pickle_protocol=4)"
   ]
  },
  {
   "attachments": {},
   "cell_type": "markdown",
   "metadata": {},
   "source": [
    "#### Train on restaurant"
   ]
  },
  {
   "cell_type": "code",
   "execution_count": 50,
   "metadata": {},
   "outputs": [],
   "source": [
    "import multiprocessing\n",
    "cores = multiprocessing.cpu_count() # Count the number of cores in a computer\n",
    "restaurant_model = gensim.models.Word2Vec(\n",
    "    window=2,\n",
    "    min_count=5,\n",
    "#     sample=6e-5, \n",
    "    alpha=0.03, \n",
    "    min_alpha=0.0007, \n",
    "    workers=cores-1,\n",
    "    epochs=50\n",
    ")"
   ]
  },
  {
   "cell_type": "code",
   "execution_count": 52,
   "metadata": {},
   "outputs": [],
   "source": [
    "\n",
    "restaurant_model.build_vocab(gensim_restaurant, progress_per=10)\n",
    "total_examples = restaurant_model.corpus_count\n",
    "restaurant_model.build_vocab([list(vectors.key_to_index.keys())], update=True)\n",
    "# train on your data\n",
    "restaurant_model.train(gensim_data, total_examples=total_examples, epochs=restaurant_model.epochs)\n",
    "model_wv = restaurant_model.wv\n",
    "model_wv.save_word2vec_format('E:/UQ/REIT4882/unsupervised-absa/models/further_pretrain/word2vec_restaurant.gensim')\n",
    "word_vectors = gensim.models.KeyedVectors.load_word2vec_format('E:/UQ/REIT4882/unsupervised-absa/models/further_pretrain/word2vec_restaurant.gensim', binary=False)\n",
    "word_vectors.save('E:/UQ/REIT4882/unsupervised-absa/models/further_pretrain/word2vec_restaurant.gensim', pickle_protocol=4)"
   ]
  },
  {
   "attachments": {},
   "cell_type": "markdown",
   "metadata": {},
   "source": [
    "### Train FastText"
   ]
  },
  {
   "attachments": {},
   "cell_type": "markdown",
   "metadata": {},
   "source": [
    "#### Train on SemEval"
   ]
  },
  {
   "cell_type": "code",
   "execution_count": 53,
   "metadata": {},
   "outputs": [],
   "source": [
    "import gensim\n",
    "from gensim.test.utils import datapath\n",
    "model = gensim.models.fasttext.load_facebook_model(datapath('E:/UQ/REIT4882/unsupervised-absa/models/cc.en.300.bin'))"
   ]
  },
  {
   "cell_type": "code",
   "execution_count": 54,
   "metadata": {},
   "outputs": [
    {
     "data": {
      "text/plain": [
       "(751075, 4082300)"
      ]
     },
     "execution_count": 54,
     "metadata": {},
     "output_type": "execute_result"
    }
   ],
   "source": [
    "model.build_vocab(gensim_data, update=True)\n",
    "model.train(corpus_iterable=gensim_data, total_examples=len(gensim_data), epochs=50)"
   ]
  },
  {
   "cell_type": "code",
   "execution_count": 55,
   "metadata": {},
   "outputs": [],
   "source": [
    "model.wv.save_word2vec_format('E:/UQ/REIT4882/unsupervised-absa/models/further_pretrain/fast_text_semeval.gensim')\n",
    "word_vectors = gensim.models.KeyedVectors.load_word2vec_format('E:/UQ/REIT4882/unsupervised-absa/models/further_pretrain/fast_text_semeval.gensim', binary=False)\n",
    "word_vectors.save('E:/UQ/REIT4882/unsupervised-absa/models/further_pretrain/fast_text_semeval.gensim', pickle_protocol=4)"
   ]
  },
  {
   "attachments": {},
   "cell_type": "markdown",
   "metadata": {},
   "source": [
    "#### Train on Laptops"
   ]
  },
  {
   "cell_type": "code",
   "execution_count": 60,
   "metadata": {},
   "outputs": [],
   "source": [
    "import gensim\n",
    "from gensim.test.utils import datapath\n",
    "laptop_model = gensim.models.fasttext.load_facebook_model(datapath('E:/UQ/REIT4882/unsupervised-absa/models/cc.en.300.bin'))"
   ]
  },
  {
   "cell_type": "code",
   "execution_count": 61,
   "metadata": {},
   "outputs": [
    {
     "data": {
      "text/plain": [
       "(351171, 2111450)"
      ]
     },
     "execution_count": 61,
     "metadata": {},
     "output_type": "execute_result"
    }
   ],
   "source": [
    "laptop_model.build_vocab(gensim_laptop, update=True)\n",
    "laptop_model.train(corpus_iterable=gensim_laptop, total_examples=len(gensim_laptop), epochs=50)"
   ]
  },
  {
   "cell_type": "code",
   "execution_count": 62,
   "metadata": {},
   "outputs": [],
   "source": [
    "laptop_model.wv.save_word2vec_format('E:/UQ/REIT4882/unsupervised-absa/models/further_pretrain/fast_text_laptop.gensim')\n",
    "word_vectors = gensim.models.KeyedVectors.load_word2vec_format('E:/UQ/REIT4882/unsupervised-absa/models/further_pretrain/fast_text_laptop.gensim', binary=False)\n",
    "word_vectors.save('E:/UQ/REIT4882/unsupervised-absa/models/further_pretrain/fast_text_laptop.gensim', pickle_protocol=4)"
   ]
  },
  {
   "attachments": {},
   "cell_type": "markdown",
   "metadata": {},
   "source": [
    "#### Train on Restaurant"
   ]
  },
  {
   "cell_type": "code",
   "execution_count": 63,
   "metadata": {},
   "outputs": [],
   "source": [
    "import gensim\n",
    "from gensim.test.utils import datapath\n",
    "restaurant_model = gensim.models.fasttext.load_facebook_model(datapath('E:/UQ/REIT4882/unsupervised-absa/models/cc.en.300.bin'))"
   ]
  },
  {
   "cell_type": "code",
   "execution_count": 64,
   "metadata": {},
   "outputs": [
    {
     "data": {
      "text/plain": [
       "(364849, 1970850)"
      ]
     },
     "execution_count": 64,
     "metadata": {},
     "output_type": "execute_result"
    }
   ],
   "source": [
    "restaurant_model.build_vocab(gensim_restaurant, update=True)\n",
    "restaurant_model.train(corpus_iterable=gensim_restaurant, total_examples=len(gensim_restaurant), epochs=50)"
   ]
  },
  {
   "cell_type": "code",
   "execution_count": 65,
   "metadata": {},
   "outputs": [],
   "source": [
    "restaurant_model.wv.save_word2vec_format('E:/UQ/REIT4882/unsupervised-absa/models/further_pretrain/fast_text_restaurant.gensim')\n",
    "word_vectors = gensim.models.KeyedVectors.load_word2vec_format('E:/UQ/REIT4882/unsupervised-absa/models/further_pretrain/fast_text_restaurant.gensim', binary=False)\n",
    "word_vectors.save('E:/UQ/REIT4882/unsupervised-absa/models/further_pretrain/fast_text_restaurant.gensim', pickle_protocol=4)"
   ]
  },
  {
   "attachments": {},
   "cell_type": "markdown",
   "metadata": {},
   "source": [
    "### Train Glove"
   ]
  },
  {
   "attachments": {},
   "cell_type": "markdown",
   "metadata": {},
   "source": [
    "#### Training Function"
   ]
  },
  {
   "cell_type": "code",
   "execution_count": 30,
   "metadata": {},
   "outputs": [],
   "source": [
    "from gensim.models.phrases import Phrases, Phraser\n",
    "from gensim.models import Word2Vec\n",
    "\n",
    "\n",
    "def train_gensim(gensim_data, glove_vectors):\n",
    "    bigram = Phrases(gensim_data, min_count=5)\n",
    "    bigram_phraser = Phraser(bigram)\n",
    "\n",
    "    bigramed_tokens = []\n",
    "    for sent in gensim_data:\n",
    "        tokens = bigram_phraser[sent]\n",
    "        bigramed_tokens.append(tokens)\n",
    "\n",
    "    # run again to get trigrams\n",
    "    trigram = Phrases(bigramed_tokens, min_count=5)\n",
    "    trigram_phraser = Phraser(trigram)\n",
    "\n",
    "    trigramed_tokens = []\n",
    "    for sent in bigramed_tokens:\n",
    "        tokens = trigram_phraser[sent]\n",
    "        trigramed_tokens.append(tokens)\n",
    "\n",
    "    # build a toy model to update with\n",
    "    model = Word2Vec(\n",
    "        window=2,\n",
    "        min_count=5,\n",
    "        #     sample=6e-5,\n",
    "        alpha=0.03,\n",
    "        min_alpha=0.0007,\n",
    "        epochs=50,\n",
    "    )\n",
    "    model.build_vocab(trigramed_tokens)\n",
    "    total_examples = model.corpus_count\n",
    "\n",
    "    # add GloVe's vocabulary & weights\n",
    "    model.build_vocab([list(vectors.key_to_index.keys())], update=True)\n",
    "\n",
    "    # train on our data\n",
    "    model.train(trigramed_tokens, total_examples=total_examples, epochs=model.epochs)\n",
    "    model_wv = model.wv\n",
    "\n",
    "    # delete the model to save memory, and return word vectors for analysis\n",
    "    del model\n",
    "    return model_wv"
   ]
  },
  {
   "cell_type": "code",
   "execution_count": 3,
   "metadata": {},
   "outputs": [
    {
     "name": "stdout",
     "output_type": "stream",
     "text": [
      "C:\\Users\\User/gensim-data\\glove-wiki-gigaword-300\\glove-wiki-gigaword-300.gz\n"
     ]
    }
   ],
   "source": [
    "import gensim.downloader\n",
    "from gensim.models import KeyedVectors\n",
    "model_path = gensim.downloader.load('glove-wiki-gigaword-300', return_path=True)\n",
    "print(model_path)\n",
    "# load the model to keyedvector and save it as keyedvector\n",
    "vectors = gensim.models.KeyedVectors.load_word2vec_format(model_path, binary=False)"
   ]
  },
  {
   "attachments": {},
   "cell_type": "markdown",
   "metadata": {},
   "source": [
    "#### Train All"
   ]
  },
  {
   "cell_type": "code",
   "execution_count": 31,
   "metadata": {},
   "outputs": [],
   "source": [
    "model = train_gensim(gensim_data, vectors)\n",
    "model.save_word2vec_format('E:/UQ/REIT4882/unsupervised-absa/models/further_pretrain/glove_semeval.gensim')\n",
    "word_vectors = gensim.models.KeyedVectors.load_word2vec_format('E:/UQ/REIT4882/unsupervised-absa/models/further_pretrain/glove_semeval.gensim', binary=False)\n",
    "word_vectors.save('E:/UQ/REIT4882/unsupervised-absa/models/further_pretrain/glove_semeval.gensim', pickle_protocol=4)"
   ]
  },
  {
   "attachments": {},
   "cell_type": "markdown",
   "metadata": {},
   "source": [
    "#### Train Laptop"
   ]
  },
  {
   "cell_type": "code",
   "execution_count": 32,
   "metadata": {},
   "outputs": [],
   "source": [
    "model = train_gensim(gensim_laptop, vectors)\n",
    "model.save_word2vec_format('E:/UQ/REIT4882/unsupervised-absa/models/further_pretrain/glove_laptop.gensim')\n",
    "word_vectors = gensim.models.KeyedVectors.load_word2vec_format('E:/UQ/REIT4882/unsupervised-absa/models/further_pretrain/glove_laptop.gensim', binary=False)\n",
    "word_vectors.save('E:/UQ/REIT4882/unsupervised-absa/models/further_pretrain/glove_laptop.gensim', pickle_protocol=4)"
   ]
  },
  {
   "attachments": {},
   "cell_type": "markdown",
   "metadata": {},
   "source": [
    "#### Train Restaurant"
   ]
  },
  {
   "cell_type": "code",
   "execution_count": 33,
   "metadata": {},
   "outputs": [],
   "source": [
    "model = train_gensim(gensim_restaurant, vectors)\n",
    "model.save_word2vec_format('E:/UQ/REIT4882/unsupervised-absa/models/further_pretrain/glove_restaurant.gensim')\n",
    "word_vectors = gensim.models.KeyedVectors.load_word2vec_format('E:/UQ/REIT4882/unsupervised-absa/models/further_pretrain/glove_restaurant.gensim', binary=False)\n",
    "word_vectors.save('E:/UQ/REIT4882/unsupervised-absa/models/further_pretrain/glove_restaurant.gensim', pickle_protocol=4)"
   ]
  }
 ],
 "metadata": {
  "kernelspec": {
   "display_name": "torch-flair",
   "language": "python",
   "name": "python3"
  },
  "language_info": {
   "codemirror_mode": {
    "name": "ipython",
    "version": 3
   },
   "file_extension": ".py",
   "mimetype": "text/x-python",
   "name": "python",
   "nbconvert_exporter": "python",
   "pygments_lexer": "ipython3",
   "version": "3.10.0"
  },
  "orig_nbformat": 4
 },
 "nbformat": 4,
 "nbformat_minor": 2
}
