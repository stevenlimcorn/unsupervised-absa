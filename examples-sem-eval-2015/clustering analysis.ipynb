{
 "cells": [
  {
   "attachments": {},
   "cell_type": "markdown",
   "metadata": {},
   "source": [
    "# Clustering Analysis"
   ]
  },
  {
   "attachments": {},
   "cell_type": "markdown",
   "metadata": {},
   "source": [
    "We load the data for each laptop and restaurant. In this case, we have existing labels to refer to. Hence, to make the analysis easier we will be loading the models of the number of unique classes."
   ]
  },
  {
   "cell_type": "code",
   "execution_count": 1,
   "metadata": {},
   "outputs": [],
   "source": [
    "import json\n",
    "\n",
    "with open('../data_2015/pos tag/laptop_pos_tag.json') as f:\n",
    "    laptop_tags = json.load(f)\n",
    "with open('../data_2015/pos tag/restaurant_pos_tag.json') as f:\n",
    "    restaurant_tags = json.load(f)"
   ]
  },
  {
   "cell_type": "code",
   "execution_count": 24,
   "metadata": {},
   "outputs": [
    {
     "name": "stderr",
     "output_type": "stream",
     "text": [
      "Loading cached processed dataset at e:\\UQ\\REIT4882\\unsupervised-absa\\data_2015\\mnli\\restaurant_aspect_term\\cache-457cf310432690a9.arrow\n"
     ]
    }
   ],
   "source": [
    "def strip_prefix(examples):\n",
    "    examples['term'] = examples['term'].strip()\n",
    "    return examples\n",
    "from datasets import load_from_disk\n",
    "restaurant_dataset = load_from_disk('../data_2015/mnli/restaurant_aspect_term')\n",
    "cleaned_restaurant_dataset = restaurant_dataset.map(strip_prefix)"
   ]
  },
  {
   "attachments": {},
   "cell_type": "markdown",
   "metadata": {},
   "source": [
    "Get all the terms categories"
   ]
  },
  {
   "cell_type": "code",
   "execution_count": 2,
   "metadata": {},
   "outputs": [],
   "source": [
    "restaurant_categories = {}\n",
    "unique_category = set()\n",
    "for sentence in restaurant_tags:\n",
    "    pos_tags = [word['word'] for word in sentence['pos_tag']]\n",
    "    for tag in sentence['term ground truth']:\n",
    "        if tag['term'] in pos_tags:\n",
    "            unique_category.add(tag['category'])\n",
    "            if tag['term'] in restaurant_categories:\n",
    "                restaurant_categories[tag['term']].add(tag['category'])\n",
    "            else:\n",
    "                restaurant_categories[tag['term']] = set()\n",
    "                restaurant_categories[tag['term']].add(tag['category'])"
   ]
  },
  {
   "cell_type": "code",
   "execution_count": 3,
   "metadata": {},
   "outputs": [
    {
     "data": {
      "text/plain": [
       "'There are a total of 6 categories for terms'"
      ]
     },
     "execution_count": 3,
     "metadata": {},
     "output_type": "execute_result"
    }
   ],
   "source": [
    "f\"There are a total of {len(unique_category)} categories for terms\""
   ]
  },
  {
   "attachments": {},
   "cell_type": "markdown",
   "metadata": {},
   "source": [
    "## Analysis of Each Word Embedding Models"
   ]
  },
  {
   "cell_type": "code",
   "execution_count": 4,
   "metadata": {},
   "outputs": [],
   "source": [
    "import pandas as pd\n",
    "import numpy as np\n",
    "def cluster_aggregation(categories, input_word, prediction_label, unique_category):\n",
    "    existing_key = categories.keys()\n",
    "    label_count = [{category: 0 for category in unique_category} for _ in unique_category]\n",
    "    for word, label_idx in zip(input_word, prediction_label):\n",
    "        if word in existing_key:\n",
    "            for category in categories[word]:\n",
    "                old_count = label_count[label_idx][category]\n",
    "                label_count[label_idx][category] = old_count + 1\n",
    "\n",
    "    return pd.DataFrame.from_records(label_count)"
   ]
  },
  {
   "attachments": {},
   "cell_type": "markdown",
   "metadata": {},
   "source": [
    "### Raw Counts"
   ]
  },
  {
   "cell_type": "code",
   "execution_count": 5,
   "metadata": {},
   "outputs": [],
   "source": [
    "from unsupervised_absa.clustering import ClusteringModel\n",
    "from sklearn.cluster import KMeans"
   ]
  },
  {
   "cell_type": "code",
   "execution_count": 63,
   "metadata": {},
   "outputs": [],
   "source": [
    "import copy\n",
    "def merge_polarity(row):\n",
    "    new_rows = []\n",
    "    for pos in row['pos_tag']:\n",
    "        new_pos = copy.deepcopy(pos)\n",
    "        new_pos['polarity'] = row['term_polarity'][pos['word']]\n",
    "        new_rows.append(new_pos)\n",
    "    return new_rows"
   ]
  },
  {
   "attachments": {},
   "cell_type": "markdown",
   "metadata": {},
   "source": [
    "#### Glove"
   ]
  },
  {
   "cell_type": "code",
   "execution_count": 6,
   "metadata": {},
   "outputs": [
    {
     "name": "stderr",
     "output_type": "stream",
     "text": [
      "\u001b[32m2023-04-24 08:34:35.791\u001b[0m | \u001b[1mINFO    \u001b[0m | \u001b[36munsupervised_absa.clustering\u001b[0m:\u001b[36mfit\u001b[0m:\u001b[36m52\u001b[0m - \u001b[1mStart clustering KMeans(max_iter=1000, n_clusters=6, n_init=10, random_state=42) with 1038 Datapoints.\u001b[0m\n"
     ]
    }
   ],
   "source": [
    "import numpy as np\n",
    "restaurant_glove_embedding = np.load('../data_2015/word embedding data/pretrained/restaurant_glove_embedding.npy', allow_pickle=True).item()\n",
    "np_restaurant_glove_embedding = np.stack(list(restaurant_glove_embedding.values()), axis=0)\n",
    "restaurant_word = np.stack(list(restaurant_glove_embedding.keys()), axis=0)\n",
    "km = KMeans(len(unique_category), n_init=10, max_iter=1000, tol=1e-04, random_state=42)\n",
    "cluster = ClusteringModel(km)\n",
    "result, new_embedding = cluster.fit(np_restaurant_glove_embedding, cosine_distance=False)"
   ]
  },
  {
   "cell_type": "code",
   "execution_count": 7,
   "metadata": {},
   "outputs": [
    {
     "data": {
      "text/html": [
       "<div>\n",
       "<style scoped>\n",
       "    .dataframe tbody tr th:only-of-type {\n",
       "        vertical-align: middle;\n",
       "    }\n",
       "\n",
       "    .dataframe tbody tr th {\n",
       "        vertical-align: top;\n",
       "    }\n",
       "\n",
       "    .dataframe thead th {\n",
       "        text-align: right;\n",
       "    }\n",
       "</style>\n",
       "<table border=\"1\" class=\"dataframe\">\n",
       "  <thead>\n",
       "    <tr style=\"text-align: right;\">\n",
       "      <th></th>\n",
       "      <th>LOCATION</th>\n",
       "      <th>FOOD</th>\n",
       "      <th>DRINKS</th>\n",
       "      <th>RESTAURANT</th>\n",
       "      <th>SERVICE</th>\n",
       "      <th>AMBIENCE</th>\n",
       "    </tr>\n",
       "  </thead>\n",
       "  <tbody>\n",
       "    <tr>\n",
       "      <th>0</th>\n",
       "      <td>1</td>\n",
       "      <td>14</td>\n",
       "      <td>16</td>\n",
       "      <td>5</td>\n",
       "      <td>12</td>\n",
       "      <td>13</td>\n",
       "    </tr>\n",
       "    <tr>\n",
       "      <th>1</th>\n",
       "      <td>0</td>\n",
       "      <td>94</td>\n",
       "      <td>0</td>\n",
       "      <td>0</td>\n",
       "      <td>0</td>\n",
       "      <td>0</td>\n",
       "    </tr>\n",
       "    <tr>\n",
       "      <th>2</th>\n",
       "      <td>3</td>\n",
       "      <td>5</td>\n",
       "      <td>0</td>\n",
       "      <td>4</td>\n",
       "      <td>3</td>\n",
       "      <td>11</td>\n",
       "    </tr>\n",
       "    <tr>\n",
       "      <th>3</th>\n",
       "      <td>1</td>\n",
       "      <td>4</td>\n",
       "      <td>1</td>\n",
       "      <td>1</td>\n",
       "      <td>9</td>\n",
       "      <td>2</td>\n",
       "    </tr>\n",
       "    <tr>\n",
       "      <th>4</th>\n",
       "      <td>0</td>\n",
       "      <td>0</td>\n",
       "      <td>0</td>\n",
       "      <td>0</td>\n",
       "      <td>3</td>\n",
       "      <td>3</td>\n",
       "    </tr>\n",
       "    <tr>\n",
       "      <th>5</th>\n",
       "      <td>0</td>\n",
       "      <td>24</td>\n",
       "      <td>4</td>\n",
       "      <td>4</td>\n",
       "      <td>3</td>\n",
       "      <td>10</td>\n",
       "    </tr>\n",
       "  </tbody>\n",
       "</table>\n",
       "</div>"
      ],
      "text/plain": [
       "   LOCATION  FOOD  DRINKS  RESTAURANT  SERVICE  AMBIENCE\n",
       "0         1    14      16           5       12        13\n",
       "1         0    94       0           0        0         0\n",
       "2         3     5       0           4        3        11\n",
       "3         1     4       1           1        9         2\n",
       "4         0     0       0           0        3         3\n",
       "5         0    24       4           4        3        10"
      ]
     },
     "execution_count": 7,
     "metadata": {},
     "output_type": "execute_result"
    }
   ],
   "source": [
    "cluster_aggregation(restaurant_categories, restaurant_word, result['Labels'], unique_category)"
   ]
  },
  {
   "cell_type": "code",
   "execution_count": 8,
   "metadata": {},
   "outputs": [],
   "source": [
    "glove_labels = {0: 'DRINKS', 1: 'FOOD', 2: 'RESTAURANT', 3: 'SERVICE', 4: 'AMBIENCE', 5: 'LOCATION'}\n",
    "labels = list(map(lambda x: glove_labels[x], result['Labels']))\n",
    "cluster_result = dict(zip(restaurant_word, labels))"
   ]
  },
  {
   "cell_type": "code",
   "execution_count": 9,
   "metadata": {},
   "outputs": [],
   "source": [
    "from datasets import load_from_disk\n",
    "restaurant_dataset = load_from_disk('../data_2015/mnli/restaurant_aspect_term')"
   ]
  },
  {
   "cell_type": "code",
   "execution_count": 10,
   "metadata": {},
   "outputs": [],
   "source": [
    "import copy\n",
    "new_result = []\n",
    "for sentence in restaurant_tags:\n",
    "    new_sentence = copy.deepcopy(sentence)\n",
    "    for idx, tag in enumerate(sentence['pos_tag']):\n",
    "        key = tag['word'].lower()\n",
    "        new_tag = copy.deepcopy(tag)\n",
    "        new_tag['category'] = cluster_result[key]\n",
    "        new_sentence['pos_tag'][idx] = new_tag\n",
    "    new_result.append(new_sentence)"
   ]
  },
  {
   "cell_type": "code",
   "execution_count": 47,
   "metadata": {},
   "outputs": [],
   "source": [
    "import pandas as pd\n",
    "restaurant_df = cleaned_restaurant_dataset.to_pandas() \n",
    "restaurant_df = restaurant_df.groupby('text').apply(lambda x: {term: polarity for term, polarity in zip(x['term'], x['polarity'])})\n",
    "restaurant_df.name = 'term_polarity'\n",
    "restaurant_df = restaurant_df.to_frame()\n",
    "new_df = pd.DataFrame.from_records(new_result)\n",
    "merged_df = restaurant_df.merge(new_df, on='text', how='left')"
   ]
  },
  {
   "cell_type": "code",
   "execution_count": 65,
   "metadata": {},
   "outputs": [],
   "source": [
    "merged_df['pos_tag'] = merged_df.apply(merge_polarity, axis=1).drop(columns=['term_polarity', 'category ground truth'])"
   ]
  },
  {
   "cell_type": "code",
   "execution_count": 75,
   "metadata": {},
   "outputs": [
    {
     "data": {
      "text/plain": [
       "[{'start': '2',\n",
       "  'end': '11',\n",
       "  'polarity': 'negative',\n",
       "  'term': 'gentleman',\n",
       "  'category': 'SERVICE'}]"
      ]
     },
     "execution_count": 75,
     "metadata": {},
     "output_type": "execute_result"
    }
   ],
   "source": [
    "merged_df['term ground truth'][6]"
   ]
  },
  {
   "cell_type": "code",
   "execution_count": 68,
   "metadata": {},
   "outputs": [
    {
     "data": {
      "application/vnd.jupyter.widget-view+json": {
       "model_id": "d76297a904604c38936b94ada75d2943",
       "version_major": 2,
       "version_minor": 0
      },
      "text/plain": [
       "Saving the dataset (0/1 shards):   0%|          | 0/1159 [00:00<?, ? examples/s]"
      ]
     },
     "metadata": {},
     "output_type": "display_data"
    }
   ],
   "source": [
    "from datasets import Dataset\n",
    "Dataset.from_pandas(merged_df).save_to_disk('../data_2015/aspect term result/glove embedding')"
   ]
  },
  {
   "cell_type": "code",
   "execution_count": 76,
   "metadata": {},
   "outputs": [
    {
     "name": "stderr",
     "output_type": "stream",
     "text": [
      "\u001b[32m2023-04-24 09:57:09.781\u001b[0m | \u001b[1mINFO    \u001b[0m | \u001b[36munsupervised_absa.clustering\u001b[0m:\u001b[36mfit\u001b[0m:\u001b[36m52\u001b[0m - \u001b[1mStart clustering KMeans(max_iter=1000, n_clusters=6, n_init=10, random_state=42) with 330 Datapoints.\u001b[0m\n"
     ]
    }
   ],
   "source": [
    "import numpy as np\n",
    "restaurant_glove_embedding = np.load('../data_2015/word embedding data/pretrained/restaurant_glove_embedding_word_count.npy', allow_pickle=True).item()\n",
    "np_restaurant_glove_embedding = np.stack(list(restaurant_glove_embedding.values()), axis=0)\n",
    "restaurant_word = np.stack(list(restaurant_glove_embedding.keys()), axis=0)\n",
    "km = KMeans(len(unique_category), n_init=10, max_iter=1000, tol=1e-04, random_state=42)\n",
    "cluster = ClusteringModel(km)\n",
    "result, new_embedding = cluster.fit(np_restaurant_glove_embedding, cosine_distance=False)"
   ]
  },
  {
   "cell_type": "code",
   "execution_count": 77,
   "metadata": {},
   "outputs": [
    {
     "data": {
      "text/html": [
       "<div>\n",
       "<style scoped>\n",
       "    .dataframe tbody tr th:only-of-type {\n",
       "        vertical-align: middle;\n",
       "    }\n",
       "\n",
       "    .dataframe tbody tr th {\n",
       "        vertical-align: top;\n",
       "    }\n",
       "\n",
       "    .dataframe thead th {\n",
       "        text-align: right;\n",
       "    }\n",
       "</style>\n",
       "<table border=\"1\" class=\"dataframe\">\n",
       "  <thead>\n",
       "    <tr style=\"text-align: right;\">\n",
       "      <th></th>\n",
       "      <th>LOCATION</th>\n",
       "      <th>FOOD</th>\n",
       "      <th>DRINKS</th>\n",
       "      <th>RESTAURANT</th>\n",
       "      <th>SERVICE</th>\n",
       "      <th>AMBIENCE</th>\n",
       "    </tr>\n",
       "  </thead>\n",
       "  <tbody>\n",
       "    <tr>\n",
       "      <th>0</th>\n",
       "      <td>5</td>\n",
       "      <td>2</td>\n",
       "      <td>1</td>\n",
       "      <td>5</td>\n",
       "      <td>2</td>\n",
       "      <td>9</td>\n",
       "    </tr>\n",
       "    <tr>\n",
       "      <th>1</th>\n",
       "      <td>0</td>\n",
       "      <td>0</td>\n",
       "      <td>0</td>\n",
       "      <td>0</td>\n",
       "      <td>3</td>\n",
       "      <td>1</td>\n",
       "    </tr>\n",
       "    <tr>\n",
       "      <th>2</th>\n",
       "      <td>0</td>\n",
       "      <td>38</td>\n",
       "      <td>4</td>\n",
       "      <td>0</td>\n",
       "      <td>0</td>\n",
       "      <td>0</td>\n",
       "    </tr>\n",
       "    <tr>\n",
       "      <th>3</th>\n",
       "      <td>0</td>\n",
       "      <td>5</td>\n",
       "      <td>2</td>\n",
       "      <td>2</td>\n",
       "      <td>9</td>\n",
       "      <td>3</td>\n",
       "    </tr>\n",
       "    <tr>\n",
       "      <th>4</th>\n",
       "      <td>0</td>\n",
       "      <td>4</td>\n",
       "      <td>1</td>\n",
       "      <td>1</td>\n",
       "      <td>5</td>\n",
       "      <td>6</td>\n",
       "    </tr>\n",
       "    <tr>\n",
       "      <th>5</th>\n",
       "      <td>0</td>\n",
       "      <td>2</td>\n",
       "      <td>0</td>\n",
       "      <td>1</td>\n",
       "      <td>1</td>\n",
       "      <td>1</td>\n",
       "    </tr>\n",
       "  </tbody>\n",
       "</table>\n",
       "</div>"
      ],
      "text/plain": [
       "   LOCATION  FOOD  DRINKS  RESTAURANT  SERVICE  AMBIENCE\n",
       "0         5     2       1           5        2         9\n",
       "1         0     0       0           0        3         1\n",
       "2         0    38       4           0        0         0\n",
       "3         0     5       2           2        9         3\n",
       "4         0     4       1           1        5         6\n",
       "5         0     2       0           1        1         1"
      ]
     },
     "execution_count": 77,
     "metadata": {},
     "output_type": "execute_result"
    }
   ],
   "source": [
    "cluster_aggregation(restaurant_categories, restaurant_word, result['Labels'], unique_category)"
   ]
  },
  {
   "cell_type": "code",
   "execution_count": null,
   "metadata": {},
   "outputs": [],
   "source": [
    "glove_labels = {0: 'LOCATION', 1: 'SERVICE', 2: 'FOOD', 1: 'RESTAURANT', 4: 'AMBIENCE', 5: 'LOCATION'}\n",
    "labels = list(map(lambda x: glove_labels[x], result['Labels']))\n",
    "cluster_result = dict(zip(restaurant_word, labels))"
   ]
  }
 ],
 "metadata": {
  "kernelspec": {
   "display_name": "torch-flair",
   "language": "python",
   "name": "python3"
  },
  "language_info": {
   "codemirror_mode": {
    "name": "ipython",
    "version": 3
   },
   "file_extension": ".py",
   "mimetype": "text/x-python",
   "name": "python",
   "nbconvert_exporter": "python",
   "pygments_lexer": "ipython3",
   "version": "3.10.0"
  },
  "orig_nbformat": 4
 },
 "nbformat": 4,
 "nbformat_minor": 2
}
