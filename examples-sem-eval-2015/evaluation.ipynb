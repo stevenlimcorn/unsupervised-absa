{
 "cells": [
  {
   "attachments": {},
   "cell_type": "markdown",
   "metadata": {},
   "source": [
    "# Evaluation Result"
   ]
  },
  {
   "cell_type": "code",
   "execution_count": 2,
   "metadata": {},
   "outputs": [],
   "source": [
    "from typing import List, Dict"
   ]
  },
  {
   "cell_type": "code",
   "execution_count": 13,
   "metadata": {},
   "outputs": [],
   "source": [
    "def intersection(lst1, lst2):\n",
    "    lst3 = [value for value in lst1 if value in lst2]\n",
    "    return lst3\n",
    "\n",
    "def left_diff(li1, li2):\n",
    "    li_dif = [i for i in li1 + li2 if i not in li2]\n",
    "    return li_dif\n",
    "\n",
    "def right_diff(li1, li2):\n",
    "    li_dif = [i for i in li1 + li2 if i not in li1]\n",
    "    return li_dif\n",
    "\n",
    "def extract_polarity(prediction, variable_name):\n",
    "    polarity = {}\n",
    "    for pred in prediction:\n",
    "        polarity[pred[variable_name]] = pred['polarity']\n",
    "    return polarity\n",
    "\n",
    "def evaluate_term(prediction: List[Dict], labels: List[Dict]):\n",
    "    assert len(prediction) == len(labels)\n",
    "    result = {\n",
    "        'fp': 0,\n",
    "        'fn': 0,\n",
    "        'tp': 0,\n",
    "        'tn': 0\n",
    "    }\n",
    "    for pred, label in zip(prediction, labels):\n",
    "        # true negative\n",
    "        if len(pred) == 0 and len(label) == 0:\n",
    "            result['tn'] = result['tn'] + 1\n",
    "        \n",
    "        pred_terms = [p['word'] for p in pred]\n",
    "        label_terms = [l['term'] for l in label]\n",
    "        # true positive\n",
    "        result['tp'] = result['tp'] + len(intersection(pred_terms, label_terms))\n",
    "        # false positive\n",
    "        result['fp'] = result['fp'] + len(left_diff(pred_terms, label_terms))\n",
    "        # false positive\n",
    "        result['fn'] = result['fn'] + len(right_diff(pred_terms, label_terms))\n",
    "    return result\n",
    "\n",
    "def evaluate_polarity(prediction: List[Dict], labels: List[Dict]):\n",
    "    assert len(prediction) == len(labels)\n",
    "    result = {\n",
    "        'fp': 0,\n",
    "        'fn': 0,\n",
    "        'tp': 0,\n",
    "        'tn': 0\n",
    "    }\n",
    "    for pred, label in zip(prediction, labels):\n",
    "        pred_terms = [p['word'] for p in pred]\n",
    "        label_terms = [l['term'] for l in label]\n",
    "        pred_polarity = extract_polarity(pred, 'word')\n",
    "        label_polarity = extract_polarity(label, 'term')\n",
    "        correct_term_prediction = intersection(pred_terms, label_terms)\n",
    "        for term in correct_term_prediction:\n",
    "            # positives\n",
    "            if pred_polarity[term] == 'positive':\n",
    "                if pred_polarity[term] == label_polarity[term]:\n",
    "                    result['tp'] = result['tp'] + 1\n",
    "                else:\n",
    "                    result['fp'] = result['fp'] + 1\n",
    "            else:\n",
    "                if pred_polarity[term] == label_polarity[term]:\n",
    "                    result['tn'] = result['tn'] + 1\n",
    "                else:\n",
    "                    result['fn'] = result['fn'] + 1\n",
    "    return result\n",
    "\n",
    "# def evaluate_term_category(prediction: List[Dict], labels: List[Dict], unique_category: List):\n",
    "#     assert len(prediction) == len(labels)\n",
    "#     result = {\n",
    "#         'fp': 0,\n",
    "#         'fn': 0,\n",
    "#         'tp': 0,\n",
    "#         'tn': 0\n",
    "#     }\n",
    "#     for pred, label in zip(prediction, labels):\n",
    "#         pred_terms = [p['word'] for p in pred]\n",
    "#         label_terms = [l['term'] for l in label]\n",
    "#         pred_polarity = extract_polarity(pred, 'word')\n",
    "#         label_polarity = extract_polarity(label, 'term')\n",
    "#         correct_term_prediction = intersection(pred_terms, label_terms)\n",
    "#         for term in correct_term_prediction:\n",
    "#             # positives\n",
    "#             if pred_polarity[term] == 'positive':\n",
    "#                 if pred_polarity[term] == label_polarity[term]:\n",
    "#                     result['tp'] = result['tp'] + 1\n",
    "#                 else:\n",
    "#                     result['fp'] = result['fp'] + 1\n",
    "#             else:\n",
    "#                 if pred_polarity[term] == label_polarity[term]:\n",
    "#                     result['tn'] = result['tn'] + 1\n",
    "#                 else:\n",
    "#                     result['fn'] = result['fn'] + 1\n",
    "#     return result\n",
    "\n",
    "def evaluate_sentence_category():\n",
    "    pass"
   ]
  },
  {
   "cell_type": "code",
   "execution_count": 14,
   "metadata": {},
   "outputs": [],
   "source": [
    "from datasets import load_from_disk\n",
    "data = load_from_disk('../data_2015/aspect term result/glove embedding')"
   ]
  },
  {
   "cell_type": "code",
   "execution_count": 17,
   "metadata": {},
   "outputs": [],
   "source": [
    "eval_term = evaluate_term(data['pos_tag'], data['term ground truth'])"
   ]
  },
  {
   "cell_type": "code",
   "execution_count": 23,
   "metadata": {},
   "outputs": [
    {
     "data": {
      "text/plain": [
       "26.060968320382543"
      ]
     },
     "execution_count": 23,
     "metadata": {},
     "output_type": "execute_result"
    }
   ],
   "source": [
    "(eval_term['tp'] + eval_term['tn'])/sum(eval_term.values()) * 100"
   ]
  },
  {
   "cell_type": "code",
   "execution_count": 20,
   "metadata": {},
   "outputs": [],
   "source": [
    "eval_polarity = evaluate_polarity(data['pos_tag'], data['term ground truth'])"
   ]
  },
  {
   "cell_type": "code",
   "execution_count": 24,
   "metadata": {},
   "outputs": [
    {
     "data": {
      "text/plain": [
       "91.62844036697247"
      ]
     },
     "execution_count": 24,
     "metadata": {},
     "output_type": "execute_result"
    }
   ],
   "source": [
    "(eval_polarity['tp'] + eval_polarity['tn'])/sum(eval_polarity.values()) * 100"
   ]
  }
 ],
 "metadata": {
  "kernelspec": {
   "display_name": "torch-flair",
   "language": "python",
   "name": "python3"
  },
  "language_info": {
   "codemirror_mode": {
    "name": "ipython",
    "version": 3
   },
   "file_extension": ".py",
   "mimetype": "text/x-python",
   "name": "python",
   "nbconvert_exporter": "python",
   "pygments_lexer": "ipython3",
   "version": "3.10.0"
  },
  "orig_nbformat": 4
 },
 "nbformat": 4,
 "nbformat_minor": 2
}
